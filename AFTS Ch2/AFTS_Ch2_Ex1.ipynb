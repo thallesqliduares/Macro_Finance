{
  "nbformat": 4,
  "nbformat_minor": 0,
  "metadata": {
    "colab": {
      "provenance": []
    },
    "kernelspec": {
      "name": "python3",
      "display_name": "Python 3"
    },
    "language_info": {
      "name": "python"
    }
  },
  "cells": [
    {
      "cell_type": "markdown",
      "source": [
        "**Chapter 2 - Exercise 1**"
      ],
      "metadata": {
        "id": "7M2D6xlae6HS"
      }
    },
    {
      "cell_type": "markdown",
      "source": [
        "Suppose that the simple return of a monthly bond index follows the MA(1)\n",
        "model $Rt = a_t + 0.2a_{t−1}$ , and $\\sigma_a = 0.025$.\n",
        "\n",
        "Assume that a_100 = 0.01. Compute the 1-step and 2-step ahead forecasts\n",
        "of the return at the forecast origin t = 100. What are the standard devia\u0002tions of the associated forecast errors? Also compute the lag-1 and lag-2\n",
        "autocorrelations of the return series."
      ],
      "metadata": {
        "id": "983SjsTPevRq"
      }
    },
    {
      "cell_type": "markdown",
      "source": [
        "To compute the 1-step ahead forecast, we use the MA(1) model to get:\n",
        "\n",
        "$E(R_{101} | R_{100}) = E(a_{101} + 0.2a_{100} | R_{100}) = 0 + 0.2a_{100} = 0.2(0.01) = 0.002$\n",
        "\n",
        "To compute the 2-step ahead forecast, we use the MA(1) model again, but this time using the 1-step ahead forecast as the value of $a_{101}$:\n",
        "\n",
        "$E(R_{102} | R_{100}) = E(a_{102} + 0.2a_{101} | R_{100}) = 0 + 0.2(0.002) = 0.0004$\n",
        "\n",
        "The standard deviation of the forecast error for the 1-step ahead forecast is:\n",
        "\n",
        "$SD(e_{101}) = \\sqrt{Var(R_{101} - E(R_{101} | R_{100}))} = \\sqrt{Var(a_{101} + 0.2a_{100})} = \\sqrt{(0.025)^2 + (0.2)^2(0.025)^2} \\approx 0.026$\n",
        "\n",
        "The standard deviation of the forecast error for the 2-step ahead forecast is:\n",
        "\n",
        "$SD(e_{102}) = \\sqrt{Var(R_{102} - E(R_{102} | R_{100}))} = \\sqrt{Var(a_{102} + 0.2a_{101})} = \\sqrt{(0.025)^2 + (0.2)^2(0.002)^2} \\approx 0.025$\n",
        "\n",
        "To compute the lag-1 autocorrelation, we use the formula:\n",
        "\n",
        "$ρ_1 = \\frac{Cov(R_t, R_{t-1})}{Var(R_t)} = \\frac{0.2σ_a^2}{(1+0.2^2)σ_a^2} \\approx 0.794$\n",
        "\n",
        "To compute the lag-2 autocorrelation, we use the fact that the MA(1) process has no autocorrelations beyond lag 1, so $ρ_2 = 0$."
      ],
      "metadata": {
        "id": "4j4qdaFzeQ11"
      }
    }
  ]
}