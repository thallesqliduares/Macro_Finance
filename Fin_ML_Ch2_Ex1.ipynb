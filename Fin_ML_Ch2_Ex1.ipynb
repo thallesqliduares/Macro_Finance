{
  "nbformat": 4,
  "nbformat_minor": 0,
  "metadata": {
    "colab": {
      "provenance": []
    },
    "kernelspec": {
      "name": "python3",
      "display_name": "Python 3"
    },
    "language_info": {
      "name": "python"
    }
  },
  "cells": [
    {
      "cell_type": "markdown",
      "source": [
        "An accountant is 95 percent effective in detecting fraudulent accounting when it\n",
        "is, in fact, present. However, the audit also yields a “false positive” result for one\n",
        "percent of the non-fraudulent companies audited. If 0.1 percent of the companies\n",
        "are actually fraudulent, what is the probability that a company is fraudulent given\n",
        "that the audit revealed fraudulent accounting."
      ],
      "metadata": {
        "id": "hwolHYkZS1qH"
      }
    },
    {
      "cell_type": "markdown",
      "source": [
        "This problem can be solved using Bayes' theorem:\n",
        "\n",
        "P(Fraud | Positive) = P(Positive | Fraud) * P(Fraud) / P(Positive)\n",
        "\n",
        "where:\n",
        "P(Fraud | Positive) = probability that the company is fraudulent given that the audit revealed fraudulent accounting\n",
        "\n",
        "P(Positive | Fraud) = probability of a positive result given that the company is fraudulent (i.e., the accountant's effectiveness in detecting fraud)\n",
        "\n",
        "P(Fraud) = probability that a company is fraudulent (given as 0.1%)\n",
        "\n",
        "P(Positive) = probability of a positive result, which can be calculated using the law of total probability:\n",
        "\n",
        "P(Positive) = P(Positive | Fraud) * P(Fraud) + P(Positive | Non-fraud) * P(Non-fraud)\n",
        "\n",
        "where:\n",
        "\n",
        "P(Positive | Non-fraud) = probability of a false positive result given that the company is non-fraudulent (given as 1%)\n",
        "\n",
        "Using these probabilities, we can calculate the probability of a company being fraudulent given that the audit revealed fraudulent accounting:"
      ],
      "metadata": {
        "id": "3XNZnlRwTChI"
      }
    },
    {
      "cell_type": "code",
      "source": [
        "# Calculate probability of a positive result given that the company is non-fraudulent\n",
        "positive_non_fraud = 0.01\n",
        "\n",
        "# Calculate probability of a positive result\n",
        "positive = 0.0001 * 0.95 + 0.9999 * positive_non_fraud\n",
        "\n",
        "# Calculate probability of a company being fraudulent given a positive result\n",
        "fraud_given_positive = 0.0001 * 0.95 / positive\n",
        "\n",
        "print(fraud_given_positive)"
      ],
      "metadata": {
        "colab": {
          "base_uri": "https://localhost:8080/"
        },
        "id": "IShdrdjxTLch",
        "outputId": "72ec76c7-bda8-49c1-a202-f62b38a5b8f6"
      },
      "execution_count": null,
      "outputs": [
        {
          "output_type": "stream",
          "name": "stdout",
          "text": [
            "0.009411531602932436\n"
          ]
        }
      ]
    },
    {
      "cell_type": "markdown",
      "source": [
        "Therefore, the probability that a company is fraudulent given that the audit revealed fraudulent accounting is approximately 0.94%."
      ],
      "metadata": {
        "id": "88feSgm2Trku"
      }
    },
    {
      "cell_type": "markdown",
      "source": [],
      "metadata": {
        "id": "JOp7LoVyV--k"
      }
    }
  ]
}