{
  "nbformat": 4,
  "nbformat_minor": 0,
  "metadata": {
    "colab": {
      "provenance": []
    },
    "kernelspec": {
      "name": "python3",
      "display_name": "Python 3"
    },
    "language_info": {
      "name": "python"
    }
  },
  "cells": [
    {
      "cell_type": "markdown",
      "source": [
        "**Chapter 6: Exercise 2**\n",
        "\n"
      ],
      "metadata": {
        "id": "UCEfVaISEsuO"
      }
    },
    {
      "cell_type": "markdown",
      "source": [
        "You have estimated the following ARMA(1,1) model for some time series data\n",
        "$y_t = 0.036 + 0.69y_{t−1} + 0.42u_{t−1} + u_t$,\n",
        "where you are given the data at time t − 1, $y_{t−1} = 3.4$ and $\\hat{u}_{t−1} = −1.3$. Obtain the\n",
        "forecasts for the series y for times t,t + 1, t + 2 using the estimated ARMA model. If the actual values for the series are −0.032, 0.961, 0.203 for t,t + 1, t + 2, calculate the out-of-sample Mean Squared Error (MSE) and Mean Absolute Error (MAE).\n"
      ],
      "metadata": {
        "id": "7p04INWW-Qzo"
      }
    },
    {
      "cell_type": "code",
      "source": [],
      "metadata": {
        "id": "MiSV2tdCFKPY"
      },
      "execution_count": null,
      "outputs": []
    },
    {
      "cell_type": "markdown",
      "source": [
        "Solution: To obtain the forecasts for the series y for times t, t+1, t+2 using the estimated ARMA model, we can use the following equations:\n",
        "\n",
        "$\\hat{y}_t = 0.036 + 0.69y_{t-1} + 0.42u_{t-1}$ \n",
        "\n",
        "$ \\hat{y}_{t+1} = 0.036 + 0.69\\hat{y}_t + 0.42y_t $\n",
        "\n",
        "$\\hat{y}_{t+2} = 0.036 + 0.69*\\hat{y}_{t+1} + 0.42*y{t+1}$\n",
        "\n",
        "Using the given data at time t-1, $y_{t-1} = 3.4$ and $\\hat{u}_{t−1} = −1.3$, we can calculate the forecasts:\n",
        "\n",
        "$\\hat{y} = 0.036 + 0.693.4 + 0.42(-1.3) = 2.185$\n",
        "\n",
        "$\\hat{y}_{t+1} = 0.036 + 0.692.185 + 0.42(-0.032) = 1.625$\n",
        "\n",
        "$\\hat{y}_{t+2} = 0.036 + 0.691.625 + 0.420.961 = 1.248 $\n",
        "\n",
        "The actual values for the series are -0.032, 0.961, 0.203 for t, t+1, t+2 respectively. We can use these values along with the forecasts to calculate the out-of-sample Mean Squared Error (MSE) and Mean Absolute Error (MAE) in Python as follows:"
      ],
      "metadata": {
        "id": "QUxg3cNO-03-"
      }
    },
    {
      "cell_type": "code",
      "execution_count": null,
      "metadata": {
        "id": "P-w3gXZh-KTJ"
      },
      "outputs": [],
      "source": [
        "import numpy as np\n",
        "from sklearn.metrics import mean_squared_error, mean_absolute_error\n"
      ]
    },
    {
      "cell_type": "code",
      "source": [
        "# actual values\n",
        "y_actual = np.array([-0.032, 0.961, 0.203])"
      ],
      "metadata": {
        "id": "q9cd63KOEiBZ"
      },
      "execution_count": null,
      "outputs": []
    },
    {
      "cell_type": "code",
      "source": [
        "# forecast values\n",
        "y_forecast = np.array([2.185, 1.625, 1.248])"
      ],
      "metadata": {
        "id": "hjxcXl0YFLAA"
      },
      "execution_count": null,
      "outputs": []
    },
    {
      "cell_type": "code",
      "source": [
        "# calculate MSE\n",
        "mse = mean_squared_error(y_actual, y_forecast)\n",
        "print(\"MSE:\", mse)"
      ],
      "metadata": {
        "colab": {
          "base_uri": "https://localhost:8080/"
        },
        "id": "Jcwe8CZTFQC5",
        "outputId": "7ca6b657-7cfa-4572-981e-1927b61db190"
      },
      "execution_count": null,
      "outputs": [
        {
          "output_type": "stream",
          "name": "stdout",
          "text": [
            "MSE: 2.1493366666666667\n"
          ]
        }
      ]
    },
    {
      "cell_type": "code",
      "source": [
        "# calculate MAE\n",
        "mae = mean_absolute_error(y_actual, y_forecast)\n",
        "print(\"MAE:\", mae)"
      ],
      "metadata": {
        "id": "OQc6nM-UFTG-",
        "outputId": "d1bd3bf9-9a95-4b44-f4b6-18acd6641b13",
        "colab": {
          "base_uri": "https://localhost:8080/"
        }
      },
      "execution_count": null,
      "outputs": [
        {
          "output_type": "stream",
          "name": "stdout",
          "text": [
            "MAE: 1.3086666666666666\n"
          ]
        }
      ]
    }
  ]
}