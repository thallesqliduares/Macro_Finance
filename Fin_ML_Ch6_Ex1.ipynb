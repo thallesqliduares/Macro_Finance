{
  "nbformat": 4,
  "nbformat_minor": 0,
  "metadata": {
    "colab": {
      "provenance": []
    },
    "kernelspec": {
      "name": "python3",
      "display_name": "Python 3"
    },
    "language_info": {
      "name": "python"
    }
  },
  "cells": [
    {
      "cell_type": "markdown",
      "source": [
        "**Chapter 6**"
      ],
      "metadata": {
        "id": "dOSHpLxE1sA8"
      }
    },
    {
      "cell_type": "markdown",
      "source": [
        "Calculate the mean, variance, and autocorrelation function (acf) of the following\n",
        "zero-mean AR(1) process $y_t = \\phi y_{t−1} + \\epsilon_t$ , where $\\phi_1 = 0.5$. Determine whether the process is stationary by computing the root of the characteristic equation  $\\Phi (z) = 0$"
      ],
      "metadata": {
        "id": "RB97ge_I1U6z"
      }
    },
    {
      "cell_type": "code",
      "source": [
        "import numpy as np"
      ],
      "metadata": {
        "id": "jzbeBcMO3zgP"
      },
      "execution_count": null,
      "outputs": []
    },
    {
      "cell_type": "code",
      "source": [
        "# Define the AR(1) process parameters\n",
        "phi = 0.5  # AR(1) coefficient\n",
        "sigma2 = 1  # variance of the innovation process"
      ],
      "metadata": {
        "id": "zq1Gdkuw3wQs"
      },
      "execution_count": null,
      "outputs": []
    },
    {
      "cell_type": "code",
      "source": [
        "# Calculate the mean and variance\n",
        "mu = 0  # zero mean\n",
        "var = sigma2 / (1 - phi**2)\n",
        "\n",
        "print(\"Mean: \", mu)\n",
        "print(\"Variance: \", var)"
      ],
      "metadata": {
        "id": "Ifgx4-GW38k_"
      },
      "execution_count": null,
      "outputs": []
    },
    {
      "cell_type": "code",
      "source": [
        "# Calculate the autocorrelation function (acf)\n",
        "acf = [1]  # autocorrelation at lag 0 is 1\n",
        "for k in range(1, 11):  # calculate up to lag 10\n",
        "    rho_k = phi**k\n",
        "    acf.append(rho_k)\n",
        "\n",
        "print(\"Autocorrelation function (acf): \", acf)\n"
      ],
      "metadata": {
        "colab": {
          "base_uri": "https://localhost:8080/"
        },
        "id": "eK3Fr_Lq39at",
        "outputId": "d406dbc8-eb30-4b33-91ab-457fd2916051"
      },
      "execution_count": null,
      "outputs": [
        {
          "output_type": "stream",
          "name": "stdout",
          "text": [
            "Autocorrelation function (acf):  [1, 0.5, 0.25, 0.125, 0.0625, 0.03125, 0.015625, 0.0078125, 0.00390625, 0.001953125, 0.0009765625]\n"
          ]
        }
      ]
    },
    {
      "cell_type": "code",
      "source": [
        "# Check for stationarity using the characteristic equation\n",
        "\n",
        "roots = np.roots([1, -phi])  # solve for the roots of the characteristic equation\n",
        "if np.abs(roots[0]) < 1:  # check if root is less than 1 in absolute value\n",
        "    print(\"The process is stationary.\")\n",
        "else:\n",
        "    print(\"The process is not stationary.\")\n",
        "\n",
        "\n",
        "\n",
        "\n",
        "\n",
        "\n",
        "\n"
      ],
      "metadata": {
        "colab": {
          "base_uri": "https://localhost:8080/"
        },
        "id": "v4P3N4M31wxo",
        "outputId": "4a35313a-11c5-42d8-dcfd-86bac7619924"
      },
      "execution_count": null,
      "outputs": [
        {
          "output_type": "stream",
          "name": "stdout",
          "text": [
            "The process is stationary.\n"
          ]
        }
      ]
    },
    {
      "cell_type": "markdown",
      "source": [
        "We can see that the mean is 0, the variance is 4, the acf decays exponentially with lag, and the process is stationary because the root of the characteristic equation is less than 1 in absolute value."
      ],
      "metadata": {
        "id": "7_t4xLsp2Fzo"
      }
    },
    {
      "cell_type": "code",
      "source": [],
      "metadata": {
        "id": "_6TekSFz2Gro"
      },
      "execution_count": null,
      "outputs": []
    }
  ]
}