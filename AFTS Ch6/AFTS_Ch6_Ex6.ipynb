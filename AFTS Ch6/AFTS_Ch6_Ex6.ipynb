{
  "nbformat": 4,
  "nbformat_minor": 0,
  "metadata": {
    "colab": {
      "provenance": []
    },
    "kernelspec": {
      "name": "python3",
      "display_name": "Python 3"
    },
    "language_info": {
      "name": "python"
    }
  },
  "cells": [
    {
      "cell_type": "code",
      "execution_count": 1,
      "metadata": {
        "colab": {
          "base_uri": "https://localhost:8080/"
        },
        "id": "OSFbkQFvSLN4",
        "outputId": "45a55f8d-5965-4646-888f-c94146c129d2"
      },
      "outputs": [
        {
          "output_type": "stream",
          "name": "stdout",
          "text": [
            "Mean: $ 89.51\n",
            "Standard deviation: $ 64.51\n",
            "95% confidence interval: $ -36.92 to $ 215.94\n"
          ]
        }
      ],
      "source": [
        "import numpy as np\n",
        "\n",
        "# Define parameters\n",
        "P0 = 60\n",
        "mu = 0.20\n",
        "sigma = 0.40\n",
        "t = 2\n",
        "\n",
        "# Calculate mean and standard deviation\n",
        "mean = P0 * np.exp(mu * t)\n",
        "std_dev = P0 * np.sqrt((np.exp(sigma**2 * t) - 1) * np.exp(2 * mu * t + sigma**2 * t))\n",
        "\n",
        "# Calculate 95% confidence interval\n",
        "CI = [mean - 1.96 * std_dev, mean + 1.96 * std_dev]\n",
        "\n",
        "# Print results\n",
        "print(\"Mean: $\", round(mean, 2))\n",
        "print(\"Standard deviation: $\", round(std_dev, 2))\n",
        "print(\"95% confidence interval: $\", round(CI[0], 2), \"to $\", round(CI[1], 2))\n"
      ]
    }
  ]
}